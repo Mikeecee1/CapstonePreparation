{
  "cells": [
    {
      "cell_type": "markdown",
      "metadata": {
        "id": "0aStgWSO0E0E"
      },
      "source": [
        "# **ETL**"
      ]
    },
    {
      "cell_type": "markdown",
      "metadata": {
        "id": "1eLEkw5O0ECa"
      },
      "source": [
        "## Objectives\n",
        "\n",
        "* Extraction, Transformation of raw dataset and loading of cleaned dataset\n",
        "\n",
        "## Inputs\n",
        "\n",
        "* Initial input will be the asteroid dataset downloaded for kaggle. As this is a very large dataset I will be working with a much smaller subset, though still substantial at around 50000 lines. \n",
        "\n",
        "## Outputs\n",
        "\n",
        "* The output will be a cleaned and encoded file - this will involve dropping a number of fields, for instance id fields, cleaning missing values where necessary and encoding variables. \n",
        "\n",
        "## Additional Comments\n",
        "\n",
        "* If you have any additional comments that don't fit in the previous bullets, please state them here. \n",
        "\n"
      ]
    },
    {
      "cell_type": "markdown",
      "metadata": {
        "id": "9uWZXH9LwoQg"
      },
      "source": [
        "---"
      ]
    },
    {
      "cell_type": "markdown",
      "metadata": {
        "id": "cqP-UeN-z3i2"
      },
      "source": [
        "# Change working directory"
      ]
    },
    {
      "cell_type": "markdown",
      "metadata": {},
      "source": [
        "* We are assuming you will store the notebooks in a subfolder, therefore when running the notebook in the editor, you will need to change the working directory"
      ]
    },
    {
      "cell_type": "markdown",
      "metadata": {
        "id": "aOGIGS-uz3i2"
      },
      "source": [
        "We need to change the working directory from its current folder to its parent folder\n",
        "* We access the current directory with os.getcwd()"
      ]
    },
    {
      "cell_type": "code",
      "execution_count": 1,
      "metadata": {
        "id": "wZfF_j-Bz3i4",
        "outputId": "66943449-1436-4c3d-85c7-b85f9f78349b"
      },
      "outputs": [
        {
          "data": {
            "text/plain": [
              "'c:\\\\Users\\\\mikee\\\\Desktop\\\\CapstonePreparation\\\\jupyter_notebooks'"
            ]
          },
          "execution_count": 1,
          "metadata": {},
          "output_type": "execute_result"
        }
      ],
      "source": [
        "import os\n",
        "current_dir = os.getcwd()\n",
        "current_dir"
      ]
    },
    {
      "cell_type": "markdown",
      "metadata": {
        "id": "9MWW8E7lz3i7"
      },
      "source": [
        "We want to make the parent of the current directory the new current directory\n",
        "* os.path.dirname() gets the parent directory\n",
        "* os.chir() defines the new current directory"
      ]
    },
    {
      "cell_type": "code",
      "execution_count": 2,
      "metadata": {
        "id": "TwHsQRWjz3i9",
        "outputId": "86849db3-cd2f-4cc5-ebb8-2d0caafa1a2c"
      },
      "outputs": [
        {
          "name": "stdout",
          "output_type": "stream",
          "text": [
            "You set a new current directory\n"
          ]
        }
      ],
      "source": [
        "os.chdir(os.path.dirname(current_dir))\n",
        "print(\"You set a new current directory\")"
      ]
    },
    {
      "cell_type": "markdown",
      "metadata": {
        "id": "M_xPk_Ijz3i-"
      },
      "source": [
        "Confirm the new current directory"
      ]
    },
    {
      "cell_type": "code",
      "execution_count": 3,
      "metadata": {
        "id": "vz3S-_kjz3jA",
        "outputId": "00b79ae4-75d0-4a96-d193-ac9ef9847ea2"
      },
      "outputs": [
        {
          "data": {
            "text/plain": [
              "'c:\\\\Users\\\\mikee\\\\Desktop\\\\CapstonePreparation'"
            ]
          },
          "execution_count": 3,
          "metadata": {},
          "output_type": "execute_result"
        }
      ],
      "source": [
        "current_dir = os.getcwd()\n",
        "current_dir"
      ]
    },
    {
      "cell_type": "markdown",
      "metadata": {
        "id": "-mavJ8DibrcQ"
      },
      "source": [
        "# Extraction"
      ]
    },
    {
      "cell_type": "markdown",
      "metadata": {},
      "source": [
        "### Import Libraries"
      ]
    },
    {
      "cell_type": "code",
      "execution_count": 4,
      "metadata": {},
      "outputs": [],
      "source": [
        "import pandas as pd\n",
        "import numpy as np\n",
        "import matplotlib.pyplot as plt\n",
        "import seaborn as sns\n",
        "#import warnings\n",
        "import warnings\n",
        "warnings.filterwarnings('ignore')"
      ]
    },
    {
      "cell_type": "markdown",
      "metadata": {},
      "source": [
        "As the dataset is very large I will first subset a random selection and save this to a csv file. The original dataset will be included in gitignore as it will be too large to push to github.\n"
      ]
    },
    {
      "cell_type": "code",
      "execution_count": 7,
      "metadata": {},
      "outputs": [
        {
          "data": {
            "text/plain": [
              "((958524, 45),\n",
              "          id    spkid       full_name pdes     name prefix neo pha     H  \\\n",
              " 0  a0000001  2000001         1 Ceres    1    Ceres    NaN   N   N  3.40   \n",
              " 1  a0000002  2000002        2 Pallas    2   Pallas    NaN   N   N  4.20   \n",
              " 2  a0000003  2000003          3 Juno    3     Juno    NaN   N   N  5.33   \n",
              " 3  a0000004  2000004         4 Vesta    4    Vesta    NaN   N   N  3.00   \n",
              " 4  a0000005  2000005       5 Astraea    5  Astraea    NaN   N   N  6.90   \n",
              " \n",
              "    diameter  ...       sigma_i      sigma_om       sigma_w      sigma_ma  \\\n",
              " 0   939.400  ...  4.608900e-09  6.168800e-08  6.624800e-08  7.820700e-09   \n",
              " 1   545.000  ...  3.469400e-06  6.272400e-06  9.128200e-06  8.859100e-06   \n",
              " 2   246.596  ...  3.223100e-06  1.664600e-05  1.772100e-05  8.110400e-06   \n",
              " 3   525.400  ...  2.170600e-07  3.880800e-07  1.789300e-07  1.206800e-06   \n",
              " 4   106.699  ...  2.740800e-06  2.894900e-05  2.984200e-05  8.303800e-06   \n",
              " \n",
              "        sigma_ad       sigma_n      sigma_tp     sigma_per  class      rms  \n",
              " 0  1.111300e-11  1.196500e-12  3.782900e-08  9.415900e-09    MBA  0.43301  \n",
              " 1  4.961300e-09  4.653600e-10  4.078700e-05  3.680700e-06    MBA  0.35936  \n",
              " 2  4.363900e-09  4.413400e-10  3.528800e-05  3.107200e-06    MBA  0.33848  \n",
              " 3  1.648600e-09  2.612500e-10  4.103700e-06  1.274900e-06    MBA  0.39980  \n",
              " 4  4.729000e-09  5.522700e-10  3.474300e-05  3.490500e-06    MBA  0.52191  \n",
              " \n",
              " [5 rows x 45 columns])"
            ]
          },
          "execution_count": 7,
          "metadata": {},
          "output_type": "execute_result"
        }
      ],
      "source": [
        "#save a random subset of Asteroid_Dataset to a new csv file\n",
        "df = pd.read_csv('data/Raw/Asteroid_Dataset.csv')\n",
        "df.shape, df.head()\n",
        "# df_sample = df.sample(frac=0.1, random_state=101)\n",
        "# df_sample.to_csv('data/Raw/Asteroid_Sample_Dataset.csv', index=False)\n",
        "# Commented out after first run as it will be unnecessary to run again"
      ]
    },
    {
      "cell_type": "markdown",
      "metadata": {},
      "source": [
        "Next create a dataframe with the raw sample"
      ]
    },
    {
      "cell_type": "code",
      "execution_count": null,
      "metadata": {},
      "outputs": [],
      "source": [
        "#load the sample dataset\n",
        "# df = pd.read_csv('data/Raw/Asteroid_Sample_Dataset.csv')\n",
        "# df.head(), df.shape"
      ]
    },
    {
      "cell_type": "code",
      "execution_count": 8,
      "metadata": {},
      "outputs": [
        {
          "name": "stdout",
          "output_type": "stream",
          "text": [
            "<class 'pandas.core.frame.DataFrame'>\n",
            "RangeIndex: 958524 entries, 0 to 958523\n",
            "Data columns (total 45 columns):\n",
            " #   Column          Non-Null Count   Dtype  \n",
            "---  ------          --------------   -----  \n",
            " 0   id              958524 non-null  object \n",
            " 1   spkid           958524 non-null  int64  \n",
            " 2   full_name       958524 non-null  object \n",
            " 3   pdes            958524 non-null  object \n",
            " 4   name            22064 non-null   object \n",
            " 5   prefix          18 non-null      object \n",
            " 6   neo             958520 non-null  object \n",
            " 7   pha             938603 non-null  object \n",
            " 8   H               952261 non-null  float64\n",
            " 9   diameter        136209 non-null  float64\n",
            " 10  albedo          135103 non-null  float64\n",
            " 11  diameter_sigma  136081 non-null  float64\n",
            " 12  orbit_id        958524 non-null  object \n",
            " 13  epoch           958524 non-null  float64\n",
            " 14  epoch_mjd       958524 non-null  int64  \n",
            " 15  epoch_cal       958524 non-null  float64\n",
            " 16  equinox         958524 non-null  object \n",
            " 17  e               958524 non-null  float64\n",
            " 18  a               958524 non-null  float64\n",
            " 19  q               958524 non-null  float64\n",
            " 20  i               958524 non-null  float64\n",
            " 21  om              958524 non-null  float64\n",
            " 22  w               958524 non-null  float64\n",
            " 23  ma              958523 non-null  float64\n",
            " 24  ad              958520 non-null  float64\n",
            " 25  n               958524 non-null  float64\n",
            " 26  tp              958524 non-null  float64\n",
            " 27  tp_cal          958524 non-null  float64\n",
            " 28  per             958520 non-null  float64\n",
            " 29  per_y           958523 non-null  float64\n",
            " 30  moid            938603 non-null  float64\n",
            " 31  moid_ld         958397 non-null  float64\n",
            " 32  sigma_e         938602 non-null  float64\n",
            " 33  sigma_a         938602 non-null  float64\n",
            " 34  sigma_q         938602 non-null  float64\n",
            " 35  sigma_i         938602 non-null  float64\n",
            " 36  sigma_om        938602 non-null  float64\n",
            " 37  sigma_w         938602 non-null  float64\n",
            " 38  sigma_ma        938602 non-null  float64\n",
            " 39  sigma_ad        938598 non-null  float64\n",
            " 40  sigma_n         938602 non-null  float64\n",
            " 41  sigma_tp        938602 non-null  float64\n",
            " 42  sigma_per       938598 non-null  float64\n",
            " 43  class           958524 non-null  object \n",
            " 44  rms             958522 non-null  float64\n",
            "dtypes: float64(33), int64(2), object(10)\n",
            "memory usage: 329.1+ MB\n"
          ]
        },
        {
          "data": {
            "text/html": [
              "<div>\n",
              "<style scoped>\n",
              "    .dataframe tbody tr th:only-of-type {\n",
              "        vertical-align: middle;\n",
              "    }\n",
              "\n",
              "    .dataframe tbody tr th {\n",
              "        vertical-align: top;\n",
              "    }\n",
              "\n",
              "    .dataframe thead th {\n",
              "        text-align: right;\n",
              "    }\n",
              "</style>\n",
              "<table border=\"1\" class=\"dataframe\">\n",
              "  <thead>\n",
              "    <tr style=\"text-align: right;\">\n",
              "      <th></th>\n",
              "      <th>spkid</th>\n",
              "      <th>H</th>\n",
              "      <th>diameter</th>\n",
              "      <th>albedo</th>\n",
              "      <th>diameter_sigma</th>\n",
              "      <th>epoch</th>\n",
              "      <th>epoch_mjd</th>\n",
              "      <th>epoch_cal</th>\n",
              "      <th>e</th>\n",
              "      <th>a</th>\n",
              "      <th>...</th>\n",
              "      <th>sigma_q</th>\n",
              "      <th>sigma_i</th>\n",
              "      <th>sigma_om</th>\n",
              "      <th>sigma_w</th>\n",
              "      <th>sigma_ma</th>\n",
              "      <th>sigma_ad</th>\n",
              "      <th>sigma_n</th>\n",
              "      <th>sigma_tp</th>\n",
              "      <th>sigma_per</th>\n",
              "      <th>rms</th>\n",
              "    </tr>\n",
              "  </thead>\n",
              "  <tbody>\n",
              "    <tr>\n",
              "      <th>count</th>\n",
              "      <td>9.585240e+05</td>\n",
              "      <td>952261.000000</td>\n",
              "      <td>136209.000000</td>\n",
              "      <td>135103.000000</td>\n",
              "      <td>136081.000000</td>\n",
              "      <td>9.585240e+05</td>\n",
              "      <td>958524.000000</td>\n",
              "      <td>9.585240e+05</td>\n",
              "      <td>958524.000000</td>\n",
              "      <td>958524.000000</td>\n",
              "      <td>...</td>\n",
              "      <td>9.386020e+05</td>\n",
              "      <td>9.386020e+05</td>\n",
              "      <td>9.386020e+05</td>\n",
              "      <td>9.386020e+05</td>\n",
              "      <td>9.386020e+05</td>\n",
              "      <td>9.385980e+05</td>\n",
              "      <td>9.386020e+05</td>\n",
              "      <td>9.386020e+05</td>\n",
              "      <td>9.385980e+05</td>\n",
              "      <td>958522.000000</td>\n",
              "    </tr>\n",
              "    <tr>\n",
              "      <th>mean</th>\n",
              "      <td>3.810114e+06</td>\n",
              "      <td>16.906411</td>\n",
              "      <td>5.506429</td>\n",
              "      <td>0.130627</td>\n",
              "      <td>0.479184</td>\n",
              "      <td>2.458869e+06</td>\n",
              "      <td>58868.781950</td>\n",
              "      <td>2.019693e+07</td>\n",
              "      <td>0.156116</td>\n",
              "      <td>2.902143</td>\n",
              "      <td>...</td>\n",
              "      <td>1.982929e+01</td>\n",
              "      <td>1.168449e+00</td>\n",
              "      <td>5.310234e+00</td>\n",
              "      <td>1.370062e+06</td>\n",
              "      <td>1.369977e+06</td>\n",
              "      <td>2.131453e+01</td>\n",
              "      <td>5.060221e-02</td>\n",
              "      <td>4.312780e+08</td>\n",
              "      <td>8.525815e+04</td>\n",
              "      <td>0.561153</td>\n",
              "    </tr>\n",
              "    <tr>\n",
              "      <th>std</th>\n",
              "      <td>6.831541e+06</td>\n",
              "      <td>1.790405</td>\n",
              "      <td>9.425164</td>\n",
              "      <td>0.110323</td>\n",
              "      <td>0.782895</td>\n",
              "      <td>7.016716e+02</td>\n",
              "      <td>701.671573</td>\n",
              "      <td>1.930354e+04</td>\n",
              "      <td>0.092643</td>\n",
              "      <td>39.719503</td>\n",
              "      <td>...</td>\n",
              "      <td>2.903785e+03</td>\n",
              "      <td>1.282231e+02</td>\n",
              "      <td>1.333381e+03</td>\n",
              "      <td>9.158996e+08</td>\n",
              "      <td>9.158991e+08</td>\n",
              "      <td>7.197034e+03</td>\n",
              "      <td>9.814953e+00</td>\n",
              "      <td>2.953046e+11</td>\n",
              "      <td>2.767681e+07</td>\n",
              "      <td>2.745700</td>\n",
              "    </tr>\n",
              "    <tr>\n",
              "      <th>min</th>\n",
              "      <td>2.000001e+06</td>\n",
              "      <td>-1.100000</td>\n",
              "      <td>0.002500</td>\n",
              "      <td>0.001000</td>\n",
              "      <td>0.000500</td>\n",
              "      <td>2.425052e+06</td>\n",
              "      <td>25051.000000</td>\n",
              "      <td>1.927062e+07</td>\n",
              "      <td>0.000000</td>\n",
              "      <td>-14702.447872</td>\n",
              "      <td>...</td>\n",
              "      <td>1.956900e-11</td>\n",
              "      <td>4.608900e-09</td>\n",
              "      <td>6.168800e-08</td>\n",
              "      <td>6.624800e-08</td>\n",
              "      <td>7.820700e-09</td>\n",
              "      <td>1.111300e-11</td>\n",
              "      <td>1.196500e-12</td>\n",
              "      <td>3.782900e-08</td>\n",
              "      <td>9.415900e-09</td>\n",
              "      <td>0.000000</td>\n",
              "    </tr>\n",
              "    <tr>\n",
              "      <th>25%</th>\n",
              "      <td>2.239632e+06</td>\n",
              "      <td>16.100000</td>\n",
              "      <td>2.780000</td>\n",
              "      <td>0.053000</td>\n",
              "      <td>0.180000</td>\n",
              "      <td>2.459000e+06</td>\n",
              "      <td>59000.000000</td>\n",
              "      <td>2.020053e+07</td>\n",
              "      <td>0.092193</td>\n",
              "      <td>2.387835</td>\n",
              "      <td>...</td>\n",
              "      <td>1.462000e-07</td>\n",
              "      <td>6.095900e-06</td>\n",
              "      <td>3.619400e-05</td>\n",
              "      <td>5.755000e-05</td>\n",
              "      <td>2.573700e-05</td>\n",
              "      <td>2.340900e-08</td>\n",
              "      <td>2.768800e-09</td>\n",
              "      <td>1.110900e-04</td>\n",
              "      <td>1.794500e-05</td>\n",
              "      <td>0.518040</td>\n",
              "    </tr>\n",
              "    <tr>\n",
              "      <th>50%</th>\n",
              "      <td>2.479262e+06</td>\n",
              "      <td>16.900000</td>\n",
              "      <td>3.972000</td>\n",
              "      <td>0.079000</td>\n",
              "      <td>0.332000</td>\n",
              "      <td>2.459000e+06</td>\n",
              "      <td>59000.000000</td>\n",
              "      <td>2.020053e+07</td>\n",
              "      <td>0.145002</td>\n",
              "      <td>2.646969</td>\n",
              "      <td>...</td>\n",
              "      <td>2.271900e-07</td>\n",
              "      <td>8.688800e-06</td>\n",
              "      <td>6.642550e-05</td>\n",
              "      <td>1.047100e-04</td>\n",
              "      <td>4.900100e-05</td>\n",
              "      <td>4.359000e-08</td>\n",
              "      <td>4.638000e-09</td>\n",
              "      <td>2.230800e-04</td>\n",
              "      <td>3.501700e-05</td>\n",
              "      <td>0.566280</td>\n",
              "    </tr>\n",
              "    <tr>\n",
              "      <th>75%</th>\n",
              "      <td>3.752518e+06</td>\n",
              "      <td>17.714000</td>\n",
              "      <td>5.765000</td>\n",
              "      <td>0.190000</td>\n",
              "      <td>0.620000</td>\n",
              "      <td>2.459000e+06</td>\n",
              "      <td>59000.000000</td>\n",
              "      <td>2.020053e+07</td>\n",
              "      <td>0.200650</td>\n",
              "      <td>3.001932</td>\n",
              "      <td>...</td>\n",
              "      <td>6.583200e-07</td>\n",
              "      <td>1.591500e-05</td>\n",
              "      <td>1.609775e-04</td>\n",
              "      <td>3.114400e-04</td>\n",
              "      <td>1.718900e-04</td>\n",
              "      <td>1.196600e-07</td>\n",
              "      <td>1.124000e-08</td>\n",
              "      <td>8.139600e-04</td>\n",
              "      <td>9.775475e-05</td>\n",
              "      <td>0.613927</td>\n",
              "    </tr>\n",
              "    <tr>\n",
              "      <th>max</th>\n",
              "      <td>5.401723e+07</td>\n",
              "      <td>33.200000</td>\n",
              "      <td>939.400000</td>\n",
              "      <td>1.000000</td>\n",
              "      <td>140.000000</td>\n",
              "      <td>2.459000e+06</td>\n",
              "      <td>59000.000000</td>\n",
              "      <td>2.020053e+07</td>\n",
              "      <td>1.855356</td>\n",
              "      <td>33488.895955</td>\n",
              "      <td>...</td>\n",
              "      <td>1.015000e+06</td>\n",
              "      <td>5.533000e+04</td>\n",
              "      <td>1.199100e+06</td>\n",
              "      <td>8.845100e+11</td>\n",
              "      <td>8.845100e+11</td>\n",
              "      <td>5.509700e+06</td>\n",
              "      <td>7.698800e+03</td>\n",
              "      <td>2.853100e+14</td>\n",
              "      <td>1.910700e+10</td>\n",
              "      <td>2686.600000</td>\n",
              "    </tr>\n",
              "  </tbody>\n",
              "</table>\n",
              "<p>8 rows × 35 columns</p>\n",
              "</div>"
            ],
            "text/plain": [
              "              spkid              H       diameter         albedo  \\\n",
              "count  9.585240e+05  952261.000000  136209.000000  135103.000000   \n",
              "mean   3.810114e+06      16.906411       5.506429       0.130627   \n",
              "std    6.831541e+06       1.790405       9.425164       0.110323   \n",
              "min    2.000001e+06      -1.100000       0.002500       0.001000   \n",
              "25%    2.239632e+06      16.100000       2.780000       0.053000   \n",
              "50%    2.479262e+06      16.900000       3.972000       0.079000   \n",
              "75%    3.752518e+06      17.714000       5.765000       0.190000   \n",
              "max    5.401723e+07      33.200000     939.400000       1.000000   \n",
              "\n",
              "       diameter_sigma         epoch      epoch_mjd     epoch_cal  \\\n",
              "count   136081.000000  9.585240e+05  958524.000000  9.585240e+05   \n",
              "mean         0.479184  2.458869e+06   58868.781950  2.019693e+07   \n",
              "std          0.782895  7.016716e+02     701.671573  1.930354e+04   \n",
              "min          0.000500  2.425052e+06   25051.000000  1.927062e+07   \n",
              "25%          0.180000  2.459000e+06   59000.000000  2.020053e+07   \n",
              "50%          0.332000  2.459000e+06   59000.000000  2.020053e+07   \n",
              "75%          0.620000  2.459000e+06   59000.000000  2.020053e+07   \n",
              "max        140.000000  2.459000e+06   59000.000000  2.020053e+07   \n",
              "\n",
              "                   e              a  ...       sigma_q       sigma_i  \\\n",
              "count  958524.000000  958524.000000  ...  9.386020e+05  9.386020e+05   \n",
              "mean        0.156116       2.902143  ...  1.982929e+01  1.168449e+00   \n",
              "std         0.092643      39.719503  ...  2.903785e+03  1.282231e+02   \n",
              "min         0.000000  -14702.447872  ...  1.956900e-11  4.608900e-09   \n",
              "25%         0.092193       2.387835  ...  1.462000e-07  6.095900e-06   \n",
              "50%         0.145002       2.646969  ...  2.271900e-07  8.688800e-06   \n",
              "75%         0.200650       3.001932  ...  6.583200e-07  1.591500e-05   \n",
              "max         1.855356   33488.895955  ...  1.015000e+06  5.533000e+04   \n",
              "\n",
              "           sigma_om       sigma_w      sigma_ma      sigma_ad       sigma_n  \\\n",
              "count  9.386020e+05  9.386020e+05  9.386020e+05  9.385980e+05  9.386020e+05   \n",
              "mean   5.310234e+00  1.370062e+06  1.369977e+06  2.131453e+01  5.060221e-02   \n",
              "std    1.333381e+03  9.158996e+08  9.158991e+08  7.197034e+03  9.814953e+00   \n",
              "min    6.168800e-08  6.624800e-08  7.820700e-09  1.111300e-11  1.196500e-12   \n",
              "25%    3.619400e-05  5.755000e-05  2.573700e-05  2.340900e-08  2.768800e-09   \n",
              "50%    6.642550e-05  1.047100e-04  4.900100e-05  4.359000e-08  4.638000e-09   \n",
              "75%    1.609775e-04  3.114400e-04  1.718900e-04  1.196600e-07  1.124000e-08   \n",
              "max    1.199100e+06  8.845100e+11  8.845100e+11  5.509700e+06  7.698800e+03   \n",
              "\n",
              "           sigma_tp     sigma_per            rms  \n",
              "count  9.386020e+05  9.385980e+05  958522.000000  \n",
              "mean   4.312780e+08  8.525815e+04       0.561153  \n",
              "std    2.953046e+11  2.767681e+07       2.745700  \n",
              "min    3.782900e-08  9.415900e-09       0.000000  \n",
              "25%    1.110900e-04  1.794500e-05       0.518040  \n",
              "50%    2.230800e-04  3.501700e-05       0.566280  \n",
              "75%    8.139600e-04  9.775475e-05       0.613927  \n",
              "max    2.853100e+14  1.910700e+10    2686.600000  \n",
              "\n",
              "[8 rows x 35 columns]"
            ]
          },
          "execution_count": 8,
          "metadata": {},
          "output_type": "execute_result"
        }
      ],
      "source": [
        "df.info()\n",
        "df.describe()"
      ]
    },
    {
      "cell_type": "code",
      "execution_count": 9,
      "metadata": {},
      "outputs": [
        {
          "data": {
            "text/plain": [
              "id                     0\n",
              "spkid                  0\n",
              "full_name              0\n",
              "pdes                   0\n",
              "name              936460\n",
              "prefix            958506\n",
              "neo                    4\n",
              "pha                19921\n",
              "H                   6263\n",
              "diameter          822315\n",
              "albedo            823421\n",
              "diameter_sigma    822443\n",
              "orbit_id               0\n",
              "epoch                  0\n",
              "epoch_mjd              0\n",
              "epoch_cal              0\n",
              "equinox                0\n",
              "e                      0\n",
              "a                      0\n",
              "q                      0\n",
              "i                      0\n",
              "om                     0\n",
              "w                      0\n",
              "ma                     1\n",
              "ad                     4\n",
              "n                      0\n",
              "tp                     0\n",
              "tp_cal                 0\n",
              "per                    4\n",
              "per_y                  1\n",
              "moid               19921\n",
              "moid_ld              127\n",
              "sigma_e            19922\n",
              "sigma_a            19922\n",
              "sigma_q            19922\n",
              "sigma_i            19922\n",
              "sigma_om           19922\n",
              "sigma_w            19922\n",
              "sigma_ma           19922\n",
              "sigma_ad           19926\n",
              "sigma_n            19922\n",
              "sigma_tp           19922\n",
              "sigma_per          19926\n",
              "class                  0\n",
              "rms                    2\n",
              "dtype: int64"
            ]
          },
          "execution_count": 9,
          "metadata": {},
          "output_type": "execute_result"
        }
      ],
      "source": [
        "df.isna().sum()"
      ]
    },
    {
      "cell_type": "code",
      "execution_count": 10,
      "metadata": {},
      "outputs": [
        {
          "data": {
            "text/plain": [
              "pha\n",
              "N    936537\n",
              "Y      2066\n",
              "Name: count, dtype: int64"
            ]
          },
          "execution_count": 10,
          "metadata": {},
          "output_type": "execute_result"
        }
      ],
      "source": [
        "df[\"pha\"].value_counts()"
      ]
    },
    {
      "cell_type": "code",
      "execution_count": 11,
      "metadata": {},
      "outputs": [
        {
          "data": {
            "text/plain": [
              "neo\n",
              "N    935625\n",
              "Y     22895\n",
              "Name: count, dtype: int64"
            ]
          },
          "execution_count": 11,
          "metadata": {},
          "output_type": "execute_result"
        }
      ],
      "source": [
        "df[\"neo\"].value_counts()"
      ]
    },
    {
      "cell_type": "markdown",
      "metadata": {},
      "source": [
        "As the initial dataset is extremely large (far too big to push to github) I will split it into several smaller csv files for reference purposes.\n"
      ]
    },
    {
      "cell_type": "code",
      "execution_count": 12,
      "metadata": {},
      "outputs": [],
      "source": [
        "#save Asteroid_Dataset in chunks of 100,000 rows to separate csv files\n",
        "data = pd.read_csv('data/Raw/Asteroid_Dataset.csv', chunksize=100000)\n",
        "for i, chunk in enumerate(data):\n",
        "    chunk.to_csv(f'data/Raw/Asteroid_Dataset_chunk_{i}.csv', index=False)"
      ]
    },
    {
      "cell_type": "markdown",
      "metadata": {
        "id": "ZY3l0-AxO93d"
      },
      "source": [
        "---"
      ]
    },
    {
      "cell_type": "markdown",
      "metadata": {
        "id": "uFQo3ycuO-v6"
      },
      "source": [
        "# Section 2"
      ]
    },
    {
      "cell_type": "markdown",
      "metadata": {},
      "source": [
        "Section 2 content"
      ]
    },
    {
      "cell_type": "code",
      "execution_count": null,
      "metadata": {},
      "outputs": [],
      "source": []
    },
    {
      "cell_type": "markdown",
      "metadata": {},
      "source": [
        "---"
      ]
    },
    {
      "cell_type": "markdown",
      "metadata": {},
      "source": [
        "NOTE"
      ]
    },
    {
      "cell_type": "markdown",
      "metadata": {},
      "source": [
        "* You may add as many sections as you want, as long as it supports your project workflow.\n",
        "* All notebook's cells should be run top-down (you can't create a dynamic wherein a given point you need to go back to a previous cell to execute some task, like go back to a previous cell and refresh a variable content)"
      ]
    },
    {
      "cell_type": "markdown",
      "metadata": {},
      "source": [
        "---"
      ]
    },
    {
      "cell_type": "markdown",
      "metadata": {
        "id": "ltNetd085qHf"
      },
      "source": [
        "# Push files to Repo"
      ]
    },
    {
      "cell_type": "markdown",
      "metadata": {},
      "source": [
        "* In cases where you don't need to push files to Repo, you may replace this section with \"Conclusions and Next Steps\" and state your conclusions and next steps."
      ]
    },
    {
      "cell_type": "code",
      "execution_count": null,
      "metadata": {
        "id": "aKlnIozA4eQO",
        "outputId": "fd09bc1f-adb1-4511-f6ce-492a6af570c0"
      },
      "outputs": [],
      "source": [
        "# import os\n",
        "# try:\n",
        "#   # create your folder here\n",
        "#   # os.makedirs(name='')\n",
        "# except Exception as e:\n",
        "#   print(e)\n"
      ]
    }
  ],
  "metadata": {
    "accelerator": "GPU",
    "colab": {
      "name": "Data Practitioner Jupyter Notebook.ipynb",
      "provenance": [],
      "toc_visible": true
    },
    "kernelspec": {
      "display_name": ".venv (3.12.8)",
      "language": "python",
      "name": "python3"
    },
    "language_info": {
      "codemirror_mode": {
        "name": "ipython",
        "version": 3
      },
      "file_extension": ".py",
      "mimetype": "text/x-python",
      "name": "python",
      "nbconvert_exporter": "python",
      "pygments_lexer": "ipython3",
      "version": "3.12.8"
    },
    "orig_nbformat": 2
  },
  "nbformat": 4,
  "nbformat_minor": 2
}
