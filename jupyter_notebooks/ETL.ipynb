{
  "cells": [
    {
      "cell_type": "markdown",
      "metadata": {
        "id": "0aStgWSO0E0E"
      },
      "source": [
        "# **ETL**"
      ]
    },
    {
      "cell_type": "markdown",
      "metadata": {
        "id": "1eLEkw5O0ECa"
      },
      "source": [
        "## Objectives\n",
        "\n",
        "* Extraction, Transformation of raw dataset and loading of cleaned dataset\n",
        "\n",
        "## Inputs\n",
        "\n",
        "* Initial input will be the asteroid dataset downloaded for kaggle. As this is a very large dataset I will be working with a much smaller subset, though still substantial at around 50000 lines. \n",
        "\n",
        "## Outputs\n",
        "\n",
        "* The output will be a cleaned and encoded file - this will involve dropping a number of fields, for instance id fields, cleaning missing values where necessary and encoding variables. \n",
        "\n",
        "## Additional Comments\n",
        "\n",
        "* If you have any additional comments that don't fit in the previous bullets, please state them here. \n",
        "\n"
      ]
    },
    {
      "cell_type": "markdown",
      "metadata": {
        "id": "9uWZXH9LwoQg"
      },
      "source": [
        "---"
      ]
    },
    {
      "cell_type": "markdown",
      "metadata": {
        "id": "cqP-UeN-z3i2"
      },
      "source": [
        "# Change working directory"
      ]
    },
    {
      "cell_type": "markdown",
      "metadata": {},
      "source": [
        "* We are assuming you will store the notebooks in a subfolder, therefore when running the notebook in the editor, you will need to change the working directory"
      ]
    },
    {
      "cell_type": "markdown",
      "metadata": {
        "id": "aOGIGS-uz3i2"
      },
      "source": [
        "We need to change the working directory from its current folder to its parent folder\n",
        "* We access the current directory with os.getcwd()"
      ]
    },
    {
      "cell_type": "code",
      "execution_count": 1,
      "metadata": {
        "id": "wZfF_j-Bz3i4",
        "outputId": "66943449-1436-4c3d-85c7-b85f9f78349b"
      },
      "outputs": [
        {
          "data": {
            "text/plain": [
              "'c:\\\\Users\\\\mikee\\\\Desktop\\\\CapstonePreparation\\\\jupyter_notebooks'"
            ]
          },
          "execution_count": 1,
          "metadata": {},
          "output_type": "execute_result"
        }
      ],
      "source": [
        "import os\n",
        "current_dir = os.getcwd()\n",
        "current_dir"
      ]
    },
    {
      "cell_type": "markdown",
      "metadata": {
        "id": "9MWW8E7lz3i7"
      },
      "source": [
        "We want to make the parent of the current directory the new current directory\n",
        "* os.path.dirname() gets the parent directory\n",
        "* os.chir() defines the new current directory"
      ]
    },
    {
      "cell_type": "code",
      "execution_count": 2,
      "metadata": {
        "id": "TwHsQRWjz3i9",
        "outputId": "86849db3-cd2f-4cc5-ebb8-2d0caafa1a2c"
      },
      "outputs": [
        {
          "name": "stdout",
          "output_type": "stream",
          "text": [
            "You set a new current directory\n"
          ]
        }
      ],
      "source": [
        "os.chdir(os.path.dirname(current_dir))\n",
        "print(\"You set a new current directory\")"
      ]
    },
    {
      "cell_type": "markdown",
      "metadata": {
        "id": "M_xPk_Ijz3i-"
      },
      "source": [
        "Confirm the new current directory"
      ]
    },
    {
      "cell_type": "code",
      "execution_count": 3,
      "metadata": {
        "id": "vz3S-_kjz3jA",
        "outputId": "00b79ae4-75d0-4a96-d193-ac9ef9847ea2"
      },
      "outputs": [
        {
          "data": {
            "text/plain": [
              "'c:\\\\Users\\\\mikee\\\\Desktop\\\\CapstonePreparation'"
            ]
          },
          "execution_count": 3,
          "metadata": {},
          "output_type": "execute_result"
        }
      ],
      "source": [
        "current_dir = os.getcwd()\n",
        "current_dir"
      ]
    },
    {
      "cell_type": "markdown",
      "metadata": {
        "id": "-mavJ8DibrcQ"
      },
      "source": [
        "# Extraction"
      ]
    },
    {
      "cell_type": "markdown",
      "metadata": {},
      "source": [
        "### Import Libraries"
      ]
    },
    {
      "cell_type": "code",
      "execution_count": 4,
      "metadata": {},
      "outputs": [],
      "source": [
        "import pandas as pd\n",
        "import numpy as np\n",
        "import matplotlib.pyplot as plt\n",
        "import seaborn as sns"
      ]
    },
    {
      "cell_type": "markdown",
      "metadata": {},
      "source": [
        "As tne dataset is very large I will first subset a random selection and save this to a csv file. The original dataset will be included in gitignore as it will be too large to push to github.\n"
      ]
    },
    {
      "cell_type": "code",
      "execution_count": 9,
      "metadata": {},
      "outputs": [],
      "source": [
        "#save a random subset of Asteroid_Dataset to a new csv file\n",
        "# df = pd.read_csv('data/Raw/Asteroid_Dataset.csv')\n",
        "# df_sample = df.sample(frac=0.05, random_state=101)\n",
        "# df_sample.to_csv('data/Raw/Asteroid_Sample_Dataset.csv', index=False)\n",
        "#Commented out after first run as it will be unnecessary to run again"
      ]
    },
    {
      "cell_type": "markdown",
      "metadata": {},
      "source": [
        "Next create a dataframe with the raw sample"
      ]
    },
    {
      "cell_type": "code",
      "execution_count": 8,
      "metadata": {},
      "outputs": [
        {
          "data": {
            "text/plain": [
              "(         id    spkid            full_name        pdes name prefix neo pha  \\\n",
              " 0  a0346924  2346924   346924 (2009 YR22)      346924  NaN    NaN   N   N   \n",
              " 1  bK04VD6H  3995840         (2004 VH136)  2004 VH136  NaN    NaN   N   N   \n",
              " 2  a0140610  2140610    140610 (2001 UG5)      140610  NaN    NaN   N   N   \n",
              " 3  bK14D43M  3666578          (2014 DM43)   2014 DM43  NaN    NaN   N   N   \n",
              " 4  bK15H45T  3853059          (2015 HT45)   2015 HT45  NaN    NaN   N   N   \n",
              " \n",
              "         H  diameter  ...   sigma_i  sigma_om   sigma_w  sigma_ma  \\\n",
              " 0  18.100       NaN  ...  0.000008  0.000129  0.000133  0.000025   \n",
              " 1  16.982       NaN  ...  0.000011  0.000032  0.000049  0.000037   \n",
              " 2  15.200     2.892  ...  0.000006  0.000008  0.000013  0.000009   \n",
              " 3  18.492       NaN  ...  0.005861  0.001193  0.344360  0.670270   \n",
              " 4  18.500       NaN  ...  0.000011  0.000095  0.000114  0.000072   \n",
              " \n",
              "        sigma_ad       sigma_n  sigma_tp  sigma_per  class      rms  \n",
              " 0  2.108900e-08  3.548600e-09  0.000088   0.000015    MBA  0.54865  \n",
              " 1  4.744300e-08  5.162200e-09  0.000167   0.000037    MBA  0.56091  \n",
              " 2  9.391800e-09  1.339400e-09  0.000032   0.000006    MBA  0.46366  \n",
              " 3  1.174200e-03  1.784800e-04  2.769600   0.886620    MBA  0.53981  \n",
              " 4  5.801900e-08  9.637000e-09  0.000241   0.000041    MBA  0.66757  \n",
              " \n",
              " [5 rows x 45 columns],\n",
              " (47926, 45))"
            ]
          },
          "execution_count": 8,
          "metadata": {},
          "output_type": "execute_result"
        }
      ],
      "source": [
        "#load the sample dataset\n",
        "df = pd.read_csv('data/Raw/Asteroid_Sample_Dataset.csv')\n",
        "df.head(), df.shape"
      ]
    },
    {
      "cell_type": "code",
      "execution_count": 10,
      "metadata": {},
      "outputs": [
        {
          "name": "stdout",
          "output_type": "stream",
          "text": [
            "<class 'pandas.core.frame.DataFrame'>\n",
            "RangeIndex: 47926 entries, 0 to 47925\n",
            "Data columns (total 45 columns):\n",
            " #   Column          Non-Null Count  Dtype  \n",
            "---  ------          --------------  -----  \n",
            " 0   id              47926 non-null  object \n",
            " 1   spkid           47926 non-null  int64  \n",
            " 2   full_name       47926 non-null  object \n",
            " 3   pdes            47926 non-null  object \n",
            " 4   name            1042 non-null   object \n",
            " 5   prefix          4 non-null      object \n",
            " 6   neo             47926 non-null  object \n",
            " 7   pha             46941 non-null  object \n",
            " 8   H               47636 non-null  float64\n",
            " 9   diameter        6742 non-null   float64\n",
            " 10  albedo          6685 non-null   float64\n",
            " 11  diameter_sigma  6737 non-null   float64\n",
            " 12  orbit_id        47926 non-null  object \n",
            " 13  epoch           47926 non-null  float64\n",
            " 14  epoch_mjd       47926 non-null  int64  \n",
            " 15  epoch_cal       47926 non-null  float64\n",
            " 16  equinox         47926 non-null  object \n",
            " 17  e               47926 non-null  float64\n",
            " 18  a               47926 non-null  float64\n",
            " 19  q               47926 non-null  float64\n",
            " 20  i               47926 non-null  float64\n",
            " 21  om              47926 non-null  float64\n",
            " 22  w               47926 non-null  float64\n",
            " 23  ma              47926 non-null  float64\n",
            " 24  ad              47926 non-null  float64\n",
            " 25  n               47926 non-null  float64\n",
            " 26  tp              47926 non-null  float64\n",
            " 27  tp_cal          47926 non-null  float64\n",
            " 28  per             47926 non-null  float64\n",
            " 29  per_y           47926 non-null  float64\n",
            " 30  moid            46941 non-null  float64\n",
            " 31  moid_ld         47923 non-null  float64\n",
            " 32  sigma_e         46941 non-null  float64\n",
            " 33  sigma_a         46941 non-null  float64\n",
            " 34  sigma_q         46941 non-null  float64\n",
            " 35  sigma_i         46941 non-null  float64\n",
            " 36  sigma_om        46941 non-null  float64\n",
            " 37  sigma_w         46941 non-null  float64\n",
            " 38  sigma_ma        46941 non-null  float64\n",
            " 39  sigma_ad        46941 non-null  float64\n",
            " 40  sigma_n         46941 non-null  float64\n",
            " 41  sigma_tp        46941 non-null  float64\n",
            " 42  sigma_per       46941 non-null  float64\n",
            " 43  class           47926 non-null  object \n",
            " 44  rms             47926 non-null  float64\n",
            "dtypes: float64(33), int64(2), object(10)\n",
            "memory usage: 16.5+ MB\n"
          ]
        },
        {
          "data": {
            "text/html": [
              "<div>\n",
              "<style scoped>\n",
              "    .dataframe tbody tr th:only-of-type {\n",
              "        vertical-align: middle;\n",
              "    }\n",
              "\n",
              "    .dataframe tbody tr th {\n",
              "        vertical-align: top;\n",
              "    }\n",
              "\n",
              "    .dataframe thead th {\n",
              "        text-align: right;\n",
              "    }\n",
              "</style>\n",
              "<table border=\"1\" class=\"dataframe\">\n",
              "  <thead>\n",
              "    <tr style=\"text-align: right;\">\n",
              "      <th></th>\n",
              "      <th>spkid</th>\n",
              "      <th>H</th>\n",
              "      <th>diameter</th>\n",
              "      <th>albedo</th>\n",
              "      <th>diameter_sigma</th>\n",
              "      <th>epoch</th>\n",
              "      <th>epoch_mjd</th>\n",
              "      <th>epoch_cal</th>\n",
              "      <th>e</th>\n",
              "      <th>a</th>\n",
              "      <th>...</th>\n",
              "      <th>sigma_q</th>\n",
              "      <th>sigma_i</th>\n",
              "      <th>sigma_om</th>\n",
              "      <th>sigma_w</th>\n",
              "      <th>sigma_ma</th>\n",
              "      <th>sigma_ad</th>\n",
              "      <th>sigma_n</th>\n",
              "      <th>sigma_tp</th>\n",
              "      <th>sigma_per</th>\n",
              "      <th>rms</th>\n",
              "    </tr>\n",
              "  </thead>\n",
              "  <tbody>\n",
              "    <tr>\n",
              "      <th>count</th>\n",
              "      <td>4.792600e+04</td>\n",
              "      <td>47636.000000</td>\n",
              "      <td>6742.000000</td>\n",
              "      <td>6685.000000</td>\n",
              "      <td>6737.000000</td>\n",
              "      <td>4.792600e+04</td>\n",
              "      <td>47926.000000</td>\n",
              "      <td>4.792600e+04</td>\n",
              "      <td>47926.000000</td>\n",
              "      <td>47926.000000</td>\n",
              "      <td>...</td>\n",
              "      <td>4.694100e+04</td>\n",
              "      <td>4.694100e+04</td>\n",
              "      <td>4.694100e+04</td>\n",
              "      <td>4.694100e+04</td>\n",
              "      <td>4.694100e+04</td>\n",
              "      <td>4.694100e+04</td>\n",
              "      <td>4.694100e+04</td>\n",
              "      <td>4.694100e+04</td>\n",
              "      <td>4.694100e+04</td>\n",
              "      <td>47926.000000</td>\n",
              "    </tr>\n",
              "    <tr>\n",
              "      <th>mean</th>\n",
              "      <td>3.818407e+06</td>\n",
              "      <td>16.902491</td>\n",
              "      <td>5.539240</td>\n",
              "      <td>0.131158</td>\n",
              "      <td>0.473669</td>\n",
              "      <td>2.458873e+06</td>\n",
              "      <td>58872.379856</td>\n",
              "      <td>2.019702e+07</td>\n",
              "      <td>0.156213</td>\n",
              "      <td>2.930959</td>\n",
              "      <td>...</td>\n",
              "      <td>2.920377e+01</td>\n",
              "      <td>7.874790e-01</td>\n",
              "      <td>2.028642e+00</td>\n",
              "      <td>9.242224e+05</td>\n",
              "      <td>9.240442e+05</td>\n",
              "      <td>2.563852e+01</td>\n",
              "      <td>2.843790e-02</td>\n",
              "      <td>2.632409e+08</td>\n",
              "      <td>7.012078e+04</td>\n",
              "      <td>0.558041</td>\n",
              "    </tr>\n",
              "    <tr>\n",
              "      <th>std</th>\n",
              "      <td>6.864509e+06</td>\n",
              "      <td>1.770130</td>\n",
              "      <td>10.230165</td>\n",
              "      <td>0.110567</td>\n",
              "      <td>0.478214</td>\n",
              "      <td>6.884447e+02</td>\n",
              "      <td>688.444678</td>\n",
              "      <td>1.893336e+04</td>\n",
              "      <td>0.093042</td>\n",
              "      <td>9.846160</td>\n",
              "      <td>...</td>\n",
              "      <td>4.307123e+03</td>\n",
              "      <td>6.832666e+01</td>\n",
              "      <td>6.835221e+01</td>\n",
              "      <td>1.501215e+08</td>\n",
              "      <td>1.500953e+08</td>\n",
              "      <td>4.280933e+03</td>\n",
              "      <td>8.811618e-01</td>\n",
              "      <td>4.284120e+10</td>\n",
              "      <td>1.105239e+07</td>\n",
              "      <td>0.103558</td>\n",
              "    </tr>\n",
              "    <tr>\n",
              "      <th>min</th>\n",
              "      <td>2.000004e+06</td>\n",
              "      <td>3.000000</td>\n",
              "      <td>0.008000</td>\n",
              "      <td>0.001000</td>\n",
              "      <td>0.001000</td>\n",
              "      <td>2.448566e+06</td>\n",
              "      <td>48565.000000</td>\n",
              "      <td>1.991110e+07</td>\n",
              "      <td>0.000017</td>\n",
              "      <td>0.555418</td>\n",
              "      <td>...</td>\n",
              "      <td>1.928600e-09</td>\n",
              "      <td>2.170600e-07</td>\n",
              "      <td>3.880800e-07</td>\n",
              "      <td>1.789300e-07</td>\n",
              "      <td>9.522600e-07</td>\n",
              "      <td>5.403800e-10</td>\n",
              "      <td>8.231100e-11</td>\n",
              "      <td>1.683700e-06</td>\n",
              "      <td>2.638400e-07</td>\n",
              "      <td>0.003510</td>\n",
              "    </tr>\n",
              "    <tr>\n",
              "      <th>25%</th>\n",
              "      <td>2.239225e+06</td>\n",
              "      <td>16.000000</td>\n",
              "      <td>2.783000</td>\n",
              "      <td>0.053000</td>\n",
              "      <td>0.180000</td>\n",
              "      <td>2.459000e+06</td>\n",
              "      <td>59000.000000</td>\n",
              "      <td>2.020053e+07</td>\n",
              "      <td>0.091853</td>\n",
              "      <td>2.390434</td>\n",
              "      <td>...</td>\n",
              "      <td>1.465800e-07</td>\n",
              "      <td>6.087700e-06</td>\n",
              "      <td>3.635700e-05</td>\n",
              "      <td>5.753400e-05</td>\n",
              "      <td>2.577900e-05</td>\n",
              "      <td>2.352800e-08</td>\n",
              "      <td>2.773800e-09</td>\n",
              "      <td>1.113200e-04</td>\n",
              "      <td>1.808300e-05</td>\n",
              "      <td>0.517850</td>\n",
              "    </tr>\n",
              "    <tr>\n",
              "      <th>50%</th>\n",
              "      <td>2.479192e+06</td>\n",
              "      <td>16.900000</td>\n",
              "      <td>4.017500</td>\n",
              "      <td>0.079000</td>\n",
              "      <td>0.331000</td>\n",
              "      <td>2.459000e+06</td>\n",
              "      <td>59000.000000</td>\n",
              "      <td>2.020053e+07</td>\n",
              "      <td>0.145279</td>\n",
              "      <td>2.647835</td>\n",
              "      <td>...</td>\n",
              "      <td>2.259800e-07</td>\n",
              "      <td>8.680900e-06</td>\n",
              "      <td>6.646700e-05</td>\n",
              "      <td>1.050800e-04</td>\n",
              "      <td>4.897400e-05</td>\n",
              "      <td>4.327900e-08</td>\n",
              "      <td>4.636700e-09</td>\n",
              "      <td>2.218100e-04</td>\n",
              "      <td>3.472100e-05</td>\n",
              "      <td>0.566290</td>\n",
              "    </tr>\n",
              "    <tr>\n",
              "      <th>75%</th>\n",
              "      <td>3.750910e+06</td>\n",
              "      <td>17.711250</td>\n",
              "      <td>5.812750</td>\n",
              "      <td>0.191000</td>\n",
              "      <td>0.625000</td>\n",
              "      <td>2.459000e+06</td>\n",
              "      <td>59000.000000</td>\n",
              "      <td>2.020053e+07</td>\n",
              "      <td>0.200672</td>\n",
              "      <td>2.997342</td>\n",
              "      <td>...</td>\n",
              "      <td>6.399300e-07</td>\n",
              "      <td>1.581500e-05</td>\n",
              "      <td>1.612700e-04</td>\n",
              "      <td>3.036200e-04</td>\n",
              "      <td>1.652300e-04</td>\n",
              "      <td>1.166100e-07</td>\n",
              "      <td>1.095300e-08</td>\n",
              "      <td>7.801900e-04</td>\n",
              "      <td>9.561100e-05</td>\n",
              "      <td>0.613357</td>\n",
              "    </tr>\n",
              "    <tr>\n",
              "      <th>max</th>\n",
              "      <td>5.401723e+07</td>\n",
              "      <td>30.900000</td>\n",
              "      <td>525.400000</td>\n",
              "      <td>1.000000</td>\n",
              "      <td>9.900000</td>\n",
              "      <td>2.459000e+06</td>\n",
              "      <td>59000.000000</td>\n",
              "      <td>2.020053e+07</td>\n",
              "      <td>0.997396</td>\n",
              "      <td>1711.799446</td>\n",
              "      <td>...</td>\n",
              "      <td>8.657000e+05</td>\n",
              "      <td>1.391700e+04</td>\n",
              "      <td>7.240900e+03</td>\n",
              "      <td>3.084600e+10</td>\n",
              "      <td>3.084000e+10</td>\n",
              "      <td>9.192700e+05</td>\n",
              "      <td>1.017200e+02</td>\n",
              "      <td>8.829900e+12</td>\n",
              "      <td>2.357800e+09</td>\n",
              "      <td>2.653000</td>\n",
              "    </tr>\n",
              "  </tbody>\n",
              "</table>\n",
              "<p>8 rows × 35 columns</p>\n",
              "</div>"
            ],
            "text/plain": [
              "              spkid             H     diameter       albedo  diameter_sigma  \\\n",
              "count  4.792600e+04  47636.000000  6742.000000  6685.000000     6737.000000   \n",
              "mean   3.818407e+06     16.902491     5.539240     0.131158        0.473669   \n",
              "std    6.864509e+06      1.770130    10.230165     0.110567        0.478214   \n",
              "min    2.000004e+06      3.000000     0.008000     0.001000        0.001000   \n",
              "25%    2.239225e+06     16.000000     2.783000     0.053000        0.180000   \n",
              "50%    2.479192e+06     16.900000     4.017500     0.079000        0.331000   \n",
              "75%    3.750910e+06     17.711250     5.812750     0.191000        0.625000   \n",
              "max    5.401723e+07     30.900000   525.400000     1.000000        9.900000   \n",
              "\n",
              "              epoch     epoch_mjd     epoch_cal             e             a  \\\n",
              "count  4.792600e+04  47926.000000  4.792600e+04  47926.000000  47926.000000   \n",
              "mean   2.458873e+06  58872.379856  2.019702e+07      0.156213      2.930959   \n",
              "std    6.884447e+02    688.444678  1.893336e+04      0.093042      9.846160   \n",
              "min    2.448566e+06  48565.000000  1.991110e+07      0.000017      0.555418   \n",
              "25%    2.459000e+06  59000.000000  2.020053e+07      0.091853      2.390434   \n",
              "50%    2.459000e+06  59000.000000  2.020053e+07      0.145279      2.647835   \n",
              "75%    2.459000e+06  59000.000000  2.020053e+07      0.200672      2.997342   \n",
              "max    2.459000e+06  59000.000000  2.020053e+07      0.997396   1711.799446   \n",
              "\n",
              "       ...       sigma_q       sigma_i      sigma_om       sigma_w  \\\n",
              "count  ...  4.694100e+04  4.694100e+04  4.694100e+04  4.694100e+04   \n",
              "mean   ...  2.920377e+01  7.874790e-01  2.028642e+00  9.242224e+05   \n",
              "std    ...  4.307123e+03  6.832666e+01  6.835221e+01  1.501215e+08   \n",
              "min    ...  1.928600e-09  2.170600e-07  3.880800e-07  1.789300e-07   \n",
              "25%    ...  1.465800e-07  6.087700e-06  3.635700e-05  5.753400e-05   \n",
              "50%    ...  2.259800e-07  8.680900e-06  6.646700e-05  1.050800e-04   \n",
              "75%    ...  6.399300e-07  1.581500e-05  1.612700e-04  3.036200e-04   \n",
              "max    ...  8.657000e+05  1.391700e+04  7.240900e+03  3.084600e+10   \n",
              "\n",
              "           sigma_ma      sigma_ad       sigma_n      sigma_tp     sigma_per  \\\n",
              "count  4.694100e+04  4.694100e+04  4.694100e+04  4.694100e+04  4.694100e+04   \n",
              "mean   9.240442e+05  2.563852e+01  2.843790e-02  2.632409e+08  7.012078e+04   \n",
              "std    1.500953e+08  4.280933e+03  8.811618e-01  4.284120e+10  1.105239e+07   \n",
              "min    9.522600e-07  5.403800e-10  8.231100e-11  1.683700e-06  2.638400e-07   \n",
              "25%    2.577900e-05  2.352800e-08  2.773800e-09  1.113200e-04  1.808300e-05   \n",
              "50%    4.897400e-05  4.327900e-08  4.636700e-09  2.218100e-04  3.472100e-05   \n",
              "75%    1.652300e-04  1.166100e-07  1.095300e-08  7.801900e-04  9.561100e-05   \n",
              "max    3.084000e+10  9.192700e+05  1.017200e+02  8.829900e+12  2.357800e+09   \n",
              "\n",
              "                rms  \n",
              "count  47926.000000  \n",
              "mean       0.558041  \n",
              "std        0.103558  \n",
              "min        0.003510  \n",
              "25%        0.517850  \n",
              "50%        0.566290  \n",
              "75%        0.613357  \n",
              "max        2.653000  \n",
              "\n",
              "[8 rows x 35 columns]"
            ]
          },
          "execution_count": 10,
          "metadata": {},
          "output_type": "execute_result"
        }
      ],
      "source": [
        "df.info()\n",
        "df.describe()"
      ]
    },
    {
      "cell_type": "code",
      "execution_count": 11,
      "metadata": {},
      "outputs": [
        {
          "data": {
            "text/plain": [
              "id                    0\n",
              "spkid                 0\n",
              "full_name             0\n",
              "pdes                  0\n",
              "name              46884\n",
              "prefix            47922\n",
              "neo                   0\n",
              "pha                 985\n",
              "H                   290\n",
              "diameter          41184\n",
              "albedo            41241\n",
              "diameter_sigma    41189\n",
              "orbit_id              0\n",
              "epoch                 0\n",
              "epoch_mjd             0\n",
              "epoch_cal             0\n",
              "equinox               0\n",
              "e                     0\n",
              "a                     0\n",
              "q                     0\n",
              "i                     0\n",
              "om                    0\n",
              "w                     0\n",
              "ma                    0\n",
              "ad                    0\n",
              "n                     0\n",
              "tp                    0\n",
              "tp_cal                0\n",
              "per                   0\n",
              "per_y                 0\n",
              "moid                985\n",
              "moid_ld               3\n",
              "sigma_e             985\n",
              "sigma_a             985\n",
              "sigma_q             985\n",
              "sigma_i             985\n",
              "sigma_om            985\n",
              "sigma_w             985\n",
              "sigma_ma            985\n",
              "sigma_ad            985\n",
              "sigma_n             985\n",
              "sigma_tp            985\n",
              "sigma_per           985\n",
              "class                 0\n",
              "rms                   0\n",
              "dtype: int64"
            ]
          },
          "execution_count": 11,
          "metadata": {},
          "output_type": "execute_result"
        }
      ],
      "source": [
        "df.isna().sum()"
      ]
    },
    {
      "cell_type": "code",
      "execution_count": 12,
      "metadata": {},
      "outputs": [
        {
          "data": {
            "text/plain": [
              "pha\n",
              "N    46828\n",
              "Y      113\n",
              "Name: count, dtype: int64"
            ]
          },
          "execution_count": 12,
          "metadata": {},
          "output_type": "execute_result"
        }
      ],
      "source": [
        "df[\"pha\"].value_counts()"
      ]
    },
    {
      "cell_type": "code",
      "execution_count": 13,
      "metadata": {},
      "outputs": [
        {
          "data": {
            "text/plain": [
              "neo\n",
              "N    46794\n",
              "Y     1132\n",
              "Name: count, dtype: int64"
            ]
          },
          "execution_count": 13,
          "metadata": {},
          "output_type": "execute_result"
        }
      ],
      "source": [
        "df[\"neo\"].value_counts()"
      ]
    },
    {
      "cell_type": "markdown",
      "metadata": {
        "id": "ZY3l0-AxO93d"
      },
      "source": [
        "---"
      ]
    },
    {
      "cell_type": "markdown",
      "metadata": {
        "id": "uFQo3ycuO-v6"
      },
      "source": [
        "# Section 2"
      ]
    },
    {
      "cell_type": "markdown",
      "metadata": {},
      "source": [
        "Section 2 content"
      ]
    },
    {
      "cell_type": "code",
      "execution_count": null,
      "metadata": {},
      "outputs": [],
      "source": []
    },
    {
      "cell_type": "markdown",
      "metadata": {},
      "source": [
        "---"
      ]
    },
    {
      "cell_type": "markdown",
      "metadata": {},
      "source": [
        "NOTE"
      ]
    },
    {
      "cell_type": "markdown",
      "metadata": {},
      "source": [
        "* You may add as many sections as you want, as long as it supports your project workflow.\n",
        "* All notebook's cells should be run top-down (you can't create a dynamic wherein a given point you need to go back to a previous cell to execute some task, like go back to a previous cell and refresh a variable content)"
      ]
    },
    {
      "cell_type": "markdown",
      "metadata": {},
      "source": [
        "---"
      ]
    },
    {
      "cell_type": "markdown",
      "metadata": {
        "id": "ltNetd085qHf"
      },
      "source": [
        "# Push files to Repo"
      ]
    },
    {
      "cell_type": "markdown",
      "metadata": {},
      "source": [
        "* In cases where you don't need to push files to Repo, you may replace this section with \"Conclusions and Next Steps\" and state your conclusions and next steps."
      ]
    },
    {
      "cell_type": "code",
      "execution_count": 7,
      "metadata": {
        "id": "aKlnIozA4eQO",
        "outputId": "fd09bc1f-adb1-4511-f6ce-492a6af570c0"
      },
      "outputs": [],
      "source": [
        "# import os\n",
        "# try:\n",
        "#   # create your folder here\n",
        "#   # os.makedirs(name='')\n",
        "# except Exception as e:\n",
        "#   print(e)\n"
      ]
    }
  ],
  "metadata": {
    "accelerator": "GPU",
    "colab": {
      "name": "Data Practitioner Jupyter Notebook.ipynb",
      "provenance": [],
      "toc_visible": true
    },
    "kernelspec": {
      "display_name": ".venv (3.12.8)",
      "language": "python",
      "name": "python3"
    },
    "language_info": {
      "codemirror_mode": {
        "name": "ipython",
        "version": 3
      },
      "file_extension": ".py",
      "mimetype": "text/x-python",
      "name": "python",
      "nbconvert_exporter": "python",
      "pygments_lexer": "ipython3",
      "version": "3.12.8"
    },
    "orig_nbformat": 2
  },
  "nbformat": 4,
  "nbformat_minor": 2
}
